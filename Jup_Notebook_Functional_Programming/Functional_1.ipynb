{
 "cells": [
  {
   "cell_type": "markdown",
   "metadata": {},
   "source": [
    "# Fuctional Notebook"
   ]
  },
  {
   "cell_type": "code",
   "execution_count": 4,
   "metadata": {},
   "outputs": [
    {
     "name": "stdout",
     "output_type": "stream",
     "text": [
      "6\n"
     ]
    }
   ],
   "source": [
    "def add(x, y): \n",
    "    return x + y\n",
    "\n",
    "def inc(x):\n",
    "    return add(x, 1)\n",
    "print(inc(5))"
   ]
  },
  {
   "cell_type": "code",
   "execution_count": 7,
   "metadata": {},
   "outputs": [
    {
     "name": "stdout",
     "output_type": "stream",
     "text": [
      "3\n"
     ]
    }
   ],
   "source": [
    "#lamda function for add          Lxy.x+y\n",
    "add = lambda x, y: x + y\n",
    "print(add(1, 2))"
   ]
  },
  {
   "cell_type": "code",
   "execution_count": 9,
   "metadata": {},
   "outputs": [
    {
     "name": "stdout",
     "output_type": "stream",
     "text": [
      "3\n"
     ]
    }
   ],
   "source": [
    "#curry version of lamda function Lx.Ly.x+y\n",
    "add1 = lambda x: lambda y: x + y\n",
    "print(add1(1)(2))\n"
   ]
  },
  {
   "cell_type": "code",
   "execution_count": 6,
   "metadata": {},
   "outputs": [
    {
     "name": "stdout",
     "output_type": "stream",
     "text": [
      "4\n",
      "[1, 2, 3, 4, 5, 6, 7, 8, 9, 10, 11, 12]\n",
      "[2, 4, 6, 8]\n",
      "384\n"
     ]
    },
    {
     "data": {
      "text/plain": [
       "384"
      ]
     },
     "execution_count": 6,
     "metadata": {},
     "output_type": "execute_result"
    }
   ],
   "source": [
    "#creating lists\n",
    "#List vs Array (array save in sequences. Slow write but fast read). \n",
    "#List (uses pointers. fast write but slow read high memories)\n",
    "a = [1, 2, 3, 4]\n",
    "b = list(range(1, 13))\n",
    "c = [a * 2 for a in range(1,5)]\n",
    "print(a)\n",
    "print(b)\n",
    "print(c)\n",
    "\n",
    "\n",
    "from functools import reduce\n",
    "print(reduce(lambda x, y: x * y, c)) # reduce takes in a function and a variable\n",
    "prod = lambda z: reduce(lambda x, y: x * y, z) #Lz.red(Lxy.x*y,z)\n",
    "prod(c)"
   ]
  },
  {
   "cell_type": "markdown",
   "metadata": {},
   "source": [
    "EVALUATE A LIST\n",
    "\n",
    "» a[0]: Obtains the head of the list, which is 1 in this case\n",
    "» a[1:]: Obtains the tail of the list, which is [2,3,4,5,6] in this case\n",
    "» a[:-1]: Obtains all but the last element, which is [1,2,3,4,5] in this case » a[:-1]: Obtains just the last element, which is 6 in this case\n",
    "» a[:-3]: Performs the same as take 3 a in Haskell\n",
    "» a[-3:]: Performs the same as drop 3 a in Haskell\n",
    "\n",
    "» len(a): Returns the number of elements in a list.\n",
    "» not a: Checks for an empty list. This check is different from a is None, which\n",
    "checks for an actual null value — a not being defined.\n",
    "» min(a): Returns the smallest list element.\n",
    "» max(a): Returns the largest list element.\n",
    "» sum(a): Adds the number of the list together."
   ]
  },
  {
   "cell_type": "code",
   "execution_count": 10,
   "metadata": {},
   "outputs": [
    {
     "name": "stdout",
     "output_type": "stream",
     "text": [
      "5\n",
      "[8, 6, 4, 2]\n"
     ]
    }
   ],
   "source": [
    "#Lx.sum(x)//len(x)\n",
    "avg = lambda x: sum(x) // len(x)\n",
    "print(avg(c))\n",
    "\n",
    "#List manipulation -> new variable\n",
    "reverse = lambda x: x[::-1]\n",
    "b = reverse(c)\n",
    "print(b)"
   ]
  },
  {
   "cell_type": "code",
   "execution_count": 11,
   "metadata": {},
   "outputs": [
    {
     "name": "stdout",
     "output_type": "stream",
     "text": [
      "frozenset([1, 2, 3, 4, 5, 6])\n"
     ]
    }
   ],
   "source": [
    "myFSet = frozenset([1, 2, 3, 4, 5, 6])\n",
    "print(myFSet)\n"
   ]
  },
  {
   "cell_type": "markdown",
   "metadata": {},
   "source": [
    "# Regular Expression\n",
    "» .: Any character (with the possible exception of the newline character or other control characters).\n",
    "» \\w: Any word character\n",
    "» \\W: Any nonword character\n",
    "» \\s: Any whitespace character\n",
    "» \\S: Any non-whitespace character\n",
    "» \\d: Any decimal digit\n",
    "» \\D: Any nondecimal digit\n",
    "» ^: Looks at the start of the string.\n",
    "» $: Looks at the end of the string.\n",
    "» *: Matches zero or more occurrences of the specified character.\n",
    "» +: Matches one or more occurrences of the specified character. The character must appear at least once.\n",
    "» ?: Matches zero or one occurrences of the specified character.\n",
    "» ?: Matches zero or one occurrences of the specified character.\n",
    "» {m}: Specifies m number of the preceding characters required for a match.\n",
    "» expression|expression: Performs or searches where the regular expression compiler will locate either one expression or the other expression and count it as a match.\n",
    "» [x]: Look for a single character from the characters specified by x.\n",
    "» [x-y]: Search for a single character from the range of characters specified\n",
    "byxandy.\n",
    "» [^expression]: Locate any single character not found in the character\n",
    "expression.\n",
    "» (expression): Define a regular expression group. For example, ab{3} would match the letter a and then three copies of the letter b, that is, abbb. However, (ab){3} would match three copies of the expression ab: ababab."
   ]
  },
  {
   "cell_type": "code",
   "execution_count": 20,
   "metadata": {},
   "outputs": [
    {
     "data": {
      "text/plain": [
       "'(770)297-6625'"
      ]
     },
     "execution_count": 20,
     "metadata": {},
     "output_type": "execute_result"
    }
   ],
   "source": [
    "import re\n",
    "vowels = \"[aeiou]\"\n",
    "re.search(vowels, \"This is a test sentence.\").group()\n",
    "\n",
    "re.match(vowels, \"This is a test sentence.\")\n",
    "\n",
    "re.findall(vowels, \"This is a test sentence.\")\n",
    "\n",
    "testString = \"This is\\ta test string.\\nYippee!\"\n",
    "whiteSpace = \"[\\s]\"\n",
    "re.split(whiteSpace, testString)\n",
    "\n",
    "testString = \"Stan says hello to Margot from Estoria. (770)297-6625\"\n",
    "pattern = \"Stan|hello|Margot|Estoria\"\n",
    "replace = \"Unknown\"\n",
    "re.sub(pattern, replace, testString)\n",
    "\n",
    "tel = \"\\(\\d{3}\\)\\d{3}\\-\\d{4}\"\n",
    "\n",
    "re.search(tel, testString).group() "
   ]
  },
  {
   "cell_type": "code",
   "execution_count": 26,
   "metadata": {},
   "outputs": [
    {
     "name": "stdout",
     "output_type": "stream",
     "text": [
      "[1, 1, 1]\n",
      "[1, 2, 3, 4, 5]\n",
      "[2, 3, 4, 5]\n",
      "[3, 4, 5]\n",
      "[4, 5]\n",
      "[5]\n",
      "[]\n"
     ]
    },
    {
     "data": {
      "text/plain": [
       "15"
      ]
     },
     "execution_count": 26,
     "metadata": {},
     "output_type": "execute_result"
    }
   ],
   "source": [
    "def doRep(x, n):\n",
    "   y = []\n",
    "   if n == 0:\n",
    "      return []\n",
    "   else:\n",
    "      y = doRep(x, n - 1) #\"loop\" starts here in reverse\n",
    "      y.append(x)\n",
    "      return y\n",
    "\n",
    "a = doRep(1, 3)\n",
    "print(a)\n",
    "\n",
    "myList = [1, 2, 3, 4, 5]\n",
    "\n",
    "def lSum(list):\n",
    "    print(list)\n",
    "    if not list:\n",
    "        return 0\n",
    "    else:\n",
    "        return list[0] + lSum(list[1:])\n",
    "\n",
    "lSum(myList)\n",
    "\n",
    "lSum2 = lambda list: 0 if not list else list[0] + lSum2(list[1:])\n",
    "\n",
    "lSum2(myList)"
   ]
  },
  {
   "cell_type": "code",
   "execution_count": 30,
   "metadata": {},
   "outputs": [
    {
     "name": "stdout",
     "output_type": "stream",
     "text": [
      "3\n",
      "{'C': 3}\n"
     ]
    }
   ],
   "source": [
    "myList = [1, 4, 8, 2, 3, 3, 5, 1, 6]\n",
    "mySet = set(myList)\n",
    "mySet\n",
    "\n",
    "\n",
    "myDic = {\"A\":{\"A\": 1, \"B\":{\"B\": 2, \"C\":{\"C\": 3}}}, \"D\": 4}\n",
    "def findKey(obj, key):\n",
    "   for k, v in obj.items():\n",
    "      if isinstance(v, dict):\n",
    "         findKey(v, key)\n",
    "      else:\n",
    "         if key in obj:\n",
    "            print(obj[key])\n",
    "\n",
    "findKey(myDic, \"C\")\n",
    "\n",
    "\n",
    "myList = [1,2,3,4,5,6]\n",
    "\n",
    "findNext = lambda x, obj: -1 if len(obj) == 0 \\\n",
    "   or len(obj) == 1 \\\n",
    "   else obj[1] if x == obj[0] \\\n",
    "      else findNext(x, obj[1:])\n",
    "findPrev = lambda x, obj: -1 if len(obj) == 0 \\\n",
    "   or len(obj) == 1 \\\n",
    "   else obj[0] if x == obj[1] \\\n",
    "      else findPrev(x, obj[1:])\n",
    "\n",
    "def doAdd(x, y): \n",
    "    return x + y\n",
    "def doSub(x, y):\n",
    "    return x - y\n",
    "def compareWithHundred(function, x, y):\n",
    "   z = function(x, y)\n",
    "   out = lambda x: \"GT\" if 100 > x \\\n",
    "      else \"EQ\" if 100 == x else \"LT\"\n",
    "   return out(z)\n",
    "\n"
   ]
  },
  {
   "cell_type": "code",
   "execution_count": 35,
   "metadata": {},
   "outputs": [
    {
     "name": "stdout",
     "output_type": "stream",
     "text": [
      "[1, 2]\n",
      "[3, 4, 5]\n",
      "[3]\n",
      "[[3, 4], [5, 6], [7, 8]]\n",
      "[[5, 6], [7, 8], [9, 10]]\n",
      "[[5, 6]]\n"
     ]
    },
    {
     "data": {
      "text/plain": [
       "[[5, 6]]"
      ]
     },
     "execution_count": 35,
     "metadata": {},
     "output_type": "execute_result"
    }
   ],
   "source": [
    "myList = [1, 2, 3, 4, 5]\n",
    "print(myList[:2])\n",
    "print(myList[2:])\n",
    "print(myList[2:3])\n",
    "\n",
    "myList2 = [[1,2],[3,4],[5,6],[7,8],[9,10]]\n",
    "print(myList2[1:4])\n",
    "print(myList2[2:])\n",
    "print(myList2[2:3])\n",
    "[[1, 2], [3, 4]]\n",
    "[[5, 6], [7, 8], [9, 10]]\n",
    "[[5, 6]]\n"
   ]
  },
  {
   "cell_type": "code",
   "execution_count": 33,
   "metadata": {},
   "outputs": [
    {
     "name": "stdout",
     "output_type": "stream",
     "text": [
      "[[5], [8], [11]]\n"
     ]
    },
    {
     "data": {
      "text/plain": [
       "[[5], [8], [11]]"
      ]
     },
     "execution_count": 33,
     "metadata": {},
     "output_type": "execute_result"
    }
   ],
   "source": [
    "def dice(lst, rb, re, cb, ce):\n",
    "    lstr = lst[rb:re]\n",
    "    lstc = []\n",
    "    for i in lstr:\n",
    "        lstc.append(i[cb:ce])\n",
    "    return lstc\n",
    "\n",
    "myList3 = [[1,2,3],[4,5,6],[7,8,9],[10,11,12],[13,14,15]]\n",
    "print(dice(myList3, 1, 4, 1, 2))\n"
   ]
  },
  {
   "cell_type": "code",
   "execution_count": 39,
   "metadata": {},
   "outputs": [
    {
     "name": "stdout",
     "output_type": "stream",
     "text": [
      "[0, 1, 4, 9, 16]\n",
      "[0, 2, 4, 6, 8]\n",
      "[0, 0]\n",
      "[1, 2]\n",
      "[4, 4]\n",
      "[9, 6]\n",
      "[16, 8]\n"
     ]
    }
   ],
   "source": [
    "#MAPPING\n",
    "\n",
    "square = lambda x: x**2 \n",
    "double = lambda x: x + x \n",
    "items = [0, 1, 2, 3, 4]\n",
    "\n",
    "print(map(square, items))\n",
    "print(list(map(double, items)))\n",
    "\n",
    "funcs = [square, double]\n",
    "for i in items:\n",
    "   value = list(map(lambda items: items(i), funcs))\n",
    "   print(value)\n",
    "    "
   ]
  },
  {
   "cell_type": "code",
   "execution_count": 41,
   "metadata": {},
   "outputs": [
    {
     "name": "stdout",
     "output_type": "stream",
     "text": [
      "[1, 3, 5]\n",
      "[4, 5]\n",
      "[0, 3]\n"
     ]
    }
   ],
   "source": [
    "#Filter\n",
    "\n",
    "items = [0, 1, 2, 3, 4, 5]\n",
    "print(filter(lambda x: x % 2 == 1, items))\n",
    "print(list(filter(lambda x: x > 3, items)))\n",
    "print(list(filter(lambda x: x % 3 == 0, items)))"
   ]
  },
  {
   "cell_type": "code",
   "execution_count": null,
   "metadata": {},
   "outputs": [],
   "source": []
  },
  {
   "cell_type": "code",
   "execution_count": null,
   "metadata": {},
   "outputs": [],
   "source": []
  }
 ],
 "metadata": {
  "kernelspec": {
   "display_name": "Python 2",
   "language": "python",
   "name": "python2"
  },
  "language_info": {
   "codemirror_mode": {
    "name": "ipython",
    "version": 2
   },
   "file_extension": ".py",
   "mimetype": "text/x-python",
   "name": "python",
   "nbconvert_exporter": "python",
   "pygments_lexer": "ipython2",
   "version": "2.7.16"
  }
 },
 "nbformat": 4,
 "nbformat_minor": 2
}
